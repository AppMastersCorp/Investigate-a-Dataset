{
 "cells": [
  {
   "cell_type": "markdown",
   "metadata": {},
   "source": [
    "# P2: Investigate a Dataset"
   ]
  },
  {
   "cell_type": "markdown",
   "metadata": {},
   "source": [
    "## Varible descriptions for the Dataset:\n",
    "\n",
    "1. Survival:          Survival (0 = No; 1 = Yes)               \n",
    "2. Pclass:            Passenger Class (1 = 1st; 2 = 2nd; 3 = 3rd)\n",
    "3. Name:              Name\n",
    "4. Sex:               Sex\n",
    "5. Age:               Age\n",
    "6. Sibsp:             Number of Siblings/Spouses Aboard\n",
    "7. Parch:             Number of Parents/Children Aboard\n",
    "8. Ticket:            Ticket Number\n",
    "9. Fare:              Passenger Fare\n",
    "10. Cabin:            Cabin\n",
    "11. Embarked:         Port of Embarkation (C = Cherbourg; Q = Queenstown; S = Southampton)"
   ]
  },
  {
   "cell_type": "markdown",
   "metadata": {},
   "source": [
    "## Special Notes:\n",
    "\n",
    "1. Pclass is a proxy for socio-economic status (SES)\n",
    "1st ~ Upper; 2nd ~ Middle; 3rd ~ Lower\n",
    "Age is in Years; Fractional if Age less than One (1)\n",
    "\n",
    "2. If the Age is Estimated, it is in the form xx.5\n",
    "With respect to the family relation variables (i.e. sibsp and parch\n",
    "some relations were ignored.  The following are the definitions use\n",
    "for sibsp and parch.\n",
    "\n",
    "4. Sibling:  Brother, Sister, Stepbrother, or Stepsister of Passenger Aboard Titanic\n",
    "Spouse:   Husband or Wife of Passenger Aboard Titanic (Mistresses and Fiances Ignored)\n",
    "Parent:   Mother or Father of Passenger Aboard Titanic\n",
    "Child:    Son, Daughter, Stepson, or Stepdaughter of Passenger Aboard Titanic\n",
    "\n",
    "5. Other family relatives excluded from this study include cousins\n",
    "nephews/nieces, aunts/uncles, and in-laws.  Some children travelled\n",
    "only with a nanny, therefore parch=0 for them.  As well, some\n",
    "travelled with very close friends or neighbors in a village, however,\n",
    "the definitions do not support such relations."
   ]
  },
  {
   "cell_type": "markdown",
   "metadata": {},
   "source": [
    "## Question"
   ]
  },
  {
   "cell_type": "markdown",
   "metadata": {},
   "source": [
    "##### Q. Does the Factor \"Pclass\" had any effect on the survivals?\n",
    "* Dependent factors: Survival\n",
    "* Independent Factors: Pclass, Sex"
   ]
  },
  {
   "cell_type": "markdown",
   "metadata": {},
   "source": [
    "###### This Data set contains data about the Passengers from the Infameous Ship wrect of the 20th Century \"Titanic\". We, with the help of the given Dataset, Try to investigate the data and draw conclusions about the factors that Influenced the survival of the Passengers in the tragedic incident. Thought the Dataset can be investigated in many possible ways, I found an interesting question to ask the data if \"The passengers rate of survival is dependent on the class of the Passengers(Pclass)?"
   ]
  },
  {
   "cell_type": "markdown",
   "metadata": {},
   "source": [
    "## Importing Required Data and Packages"
   ]
  },
  {
   "cell_type": "code",
   "execution_count": 1,
   "metadata": {
    "collapsed": false
   },
   "outputs": [],
   "source": [
    "import numpy as np\n",
    "import pandas as pd\n",
    "import math as math\n",
    "import scipy as sp\n",
    "import csv as csv\n",
    "from matplotlib import pyplot as plt\n",
    "import seaborn as sb\n",
    "from IPython.display import display\n",
    "\n",
    "# importing the Dataset\n",
    "# original\n",
    "titanic_default = pd.read_csv('titanic.csv')\n",
    "# Copy\n",
    "titanic = titanic_default.copy()"
   ]
  },
  {
   "cell_type": "markdown",
   "metadata": {},
   "source": [
    "###### Here we import all the necessary packages that might be handfull, Import the Dataset and make a copy of it so that we could do the necessary Data wrangling keeping the Original data untouched. "
   ]
  },
  {
   "cell_type": "markdown",
   "metadata": {},
   "source": [
    "## Glance at the Dataset: Titanic"
   ]
  },
  {
   "cell_type": "code",
   "execution_count": 2,
   "metadata": {
    "collapsed": false
   },
   "outputs": [
    {
     "name": "stdout",
     "output_type": "stream",
     "text": [
      "<class 'pandas.core.frame.DataFrame'>\n",
      "RangeIndex: 891 entries, 0 to 890\n",
      "Data columns (total 12 columns):\n",
      "PassengerId    891 non-null int64\n",
      "Survived       891 non-null int64\n",
      "Pclass         891 non-null int64\n",
      "Name           891 non-null object\n",
      "Sex            891 non-null object\n",
      "Age            714 non-null float64\n",
      "SibSp          891 non-null int64\n",
      "Parch          891 non-null int64\n",
      "Ticket         891 non-null object\n",
      "Fare           891 non-null float64\n",
      "Cabin          204 non-null object\n",
      "Embarked       889 non-null object\n",
      "dtypes: float64(2), int64(5), object(5)\n",
      "memory usage: 83.6+ KB\n"
     ]
    }
   ],
   "source": [
    "#Get's Information about the Dataset\n",
    "titanic.info()"
   ]
  },
  {
   "cell_type": "markdown",
   "metadata": {},
   "source": [
    "###### A glance of the Dataset: This helps us ave a quick overveiw of the data and discover the insights of the data. This help us decide the integral parts of the data and reliable factor on which we can run an analysis"
   ]
  },
  {
   "cell_type": "markdown",
   "metadata": {},
   "source": [
    "## Observations\n",
    "\n",
    "According to the given Dataset, There were a total of 891 Passengers traveling on the ship. The columns like Age, Cabin, Embarked have In-complete data. \n",
    "\n",
    "1. The Age column has only 714 entries.\n",
    "\n",
    "2. Cabin has 204 entries and \n",
    "\n",
    "3. Embarked has 889 entries \n",
    "\n",
    "Out of a total of 891 entries each. Hence the data in these columns is considered to be Non-Reliable/ Bad-Data/ Missing data and is not used in the Analysis of this Dataset.  \n"
   ]
  },
  {
   "cell_type": "markdown",
   "metadata": {},
   "source": [
    "## Cleaning the Data\n",
    "\n",
    "The Name, Age, Parch, Ticket, Cabin, Embarked columns have been dropped from the dataset as we do not have any considerable use with those columns.\n",
    "\n",
    "Age, Cabin and Embarked has been dropped as these columns have incomplete or Bad data which is Non-Reliable.\n",
    "\n",
    "Parch, Name and Ticket column have been dropped as the data in these columns were not utilized in this analysis. Getting rid of  unwanted data makes the code more efficient(It might not make any considerable difference in such small dataset but I believe this is a healthy practice to remove unwanted data from the analysis). Parch, Name and ticket might be key points in the analysis but We assume this data is unwanted as the we are able to answer our questions with the help of remaining data to keep the analysis efficient and the code run quicker."
   ]
  },
  {
   "cell_type": "code",
   "execution_count": 3,
   "metadata": {
    "collapsed": false
   },
   "outputs": [
    {
     "data": {
      "text/html": [
       "<div>\n",
       "<table border=\"1\" class=\"dataframe\">\n",
       "  <thead>\n",
       "    <tr style=\"text-align: right;\">\n",
       "      <th></th>\n",
       "      <th>Survived</th>\n",
       "      <th>Pclass</th>\n",
       "      <th>Sex</th>\n",
       "      <th>SibSp</th>\n",
       "      <th>Fare</th>\n",
       "    </tr>\n",
       "  </thead>\n",
       "  <tbody>\n",
       "    <tr>\n",
       "      <th>0</th>\n",
       "      <td>0</td>\n",
       "      <td>3</td>\n",
       "      <td>male</td>\n",
       "      <td>1</td>\n",
       "      <td>7.2500</td>\n",
       "    </tr>\n",
       "    <tr>\n",
       "      <th>1</th>\n",
       "      <td>1</td>\n",
       "      <td>1</td>\n",
       "      <td>female</td>\n",
       "      <td>1</td>\n",
       "      <td>71.2833</td>\n",
       "    </tr>\n",
       "    <tr>\n",
       "      <th>2</th>\n",
       "      <td>1</td>\n",
       "      <td>3</td>\n",
       "      <td>female</td>\n",
       "      <td>0</td>\n",
       "      <td>7.9250</td>\n",
       "    </tr>\n",
       "    <tr>\n",
       "      <th>3</th>\n",
       "      <td>1</td>\n",
       "      <td>1</td>\n",
       "      <td>female</td>\n",
       "      <td>1</td>\n",
       "      <td>53.1000</td>\n",
       "    </tr>\n",
       "    <tr>\n",
       "      <th>4</th>\n",
       "      <td>0</td>\n",
       "      <td>3</td>\n",
       "      <td>male</td>\n",
       "      <td>0</td>\n",
       "      <td>8.0500</td>\n",
       "    </tr>\n",
       "  </tbody>\n",
       "</table>\n",
       "</div>"
      ],
      "text/plain": [
       "   Survived  Pclass     Sex  SibSp     Fare\n",
       "0         0       3    male      1   7.2500\n",
       "1         1       1  female      1  71.2833\n",
       "2         1       3  female      0   7.9250\n",
       "3         1       1  female      1  53.1000\n",
       "4         0       3    male      0   8.0500"
      ]
     },
     "metadata": {},
     "output_type": "display_data"
    },
    {
     "name": "stdout",
     "output_type": "stream",
     "text": [
      "None\n"
     ]
    }
   ],
   "source": [
    "# Dropping un-necessary columns from the table as the following columns were not used in this Analysis. \n",
    "titanic = titanic.drop([\"PassengerId\", \"Name\", \"Age\",\"Parch\", \"Ticket\", \"Cabin\", \"Embarked\"], axis=1)\n",
    "# Displaying Frist five rows fo the modified data\n",
    "print display(titanic.head())"
   ]
  },
  {
   "cell_type": "markdown",
   "metadata": {},
   "source": [
    "###### The Name, Age, Parch, Ticket, Cabin, Embarked columns have been dropped from the dataset as we do not have any considerable use with those columns.\n",
    "\n",
    "Age, Cabin and Embarked has been dropped as these columns have incomplete or Bad data which is Non-Reliable.\n",
    "\n",
    "Parch, Name and Ticket column have been dropped as the data in these columns were not utilized in this analysis. Getting rid of  unwanted data makes the code more efficient(It might not make any considerable difference in such small dataset but I believe this is a healthy practice to remove unwanted data from the analysis). Parch, Name and ticket might be key points in the analysis but We assume this data is unwanted as the we are able to answer our questions with the help of remaining data to keep the analysis efficient and the code run quicker."
   ]
  },
  {
   "cell_type": "markdown",
   "metadata": {},
   "source": [
    "# Itiration 1\n",
    "Q1. Does the Factor \"Pclass\" had any effect on the survivals?\n",
    "\n",
    "Dependent factors:Survival\n",
    "\n",
    "Independent Factors: Pclass, Sex"
   ]
  },
  {
   "cell_type": "code",
   "execution_count": 4,
   "metadata": {
    "collapsed": false
   },
   "outputs": [
    {
     "data": {
      "text/html": [
       "<div>\n",
       "<table border=\"1\" class=\"dataframe\">\n",
       "  <thead>\n",
       "    <tr style=\"text-align: right;\">\n",
       "      <th></th>\n",
       "      <th>Survived</th>\n",
       "      <th>Pclass</th>\n",
       "      <th>Sex</th>\n",
       "      <th>SibSp</th>\n",
       "      <th>Fare</th>\n",
       "    </tr>\n",
       "  </thead>\n",
       "  <tbody>\n",
       "    <tr>\n",
       "      <th>1</th>\n",
       "      <td>1</td>\n",
       "      <td>1</td>\n",
       "      <td>female</td>\n",
       "      <td>1</td>\n",
       "      <td>71.2833</td>\n",
       "    </tr>\n",
       "    <tr>\n",
       "      <th>3</th>\n",
       "      <td>1</td>\n",
       "      <td>1</td>\n",
       "      <td>female</td>\n",
       "      <td>1</td>\n",
       "      <td>53.1000</td>\n",
       "    </tr>\n",
       "    <tr>\n",
       "      <th>6</th>\n",
       "      <td>0</td>\n",
       "      <td>1</td>\n",
       "      <td>male</td>\n",
       "      <td>0</td>\n",
       "      <td>51.8625</td>\n",
       "    </tr>\n",
       "    <tr>\n",
       "      <th>11</th>\n",
       "      <td>1</td>\n",
       "      <td>1</td>\n",
       "      <td>female</td>\n",
       "      <td>0</td>\n",
       "      <td>26.5500</td>\n",
       "    </tr>\n",
       "    <tr>\n",
       "      <th>23</th>\n",
       "      <td>1</td>\n",
       "      <td>1</td>\n",
       "      <td>male</td>\n",
       "      <td>0</td>\n",
       "      <td>35.5000</td>\n",
       "    </tr>\n",
       "  </tbody>\n",
       "</table>\n",
       "</div>"
      ],
      "text/plain": [
       "    Survived  Pclass     Sex  SibSp     Fare\n",
       "1          1       1  female      1  71.2833\n",
       "3          1       1  female      1  53.1000\n",
       "6          0       1    male      0  51.8625\n",
       "11         1       1  female      0  26.5500\n",
       "23         1       1    male      0  35.5000"
      ]
     },
     "metadata": {},
     "output_type": "display_data"
    },
    {
     "name": "stdout",
     "output_type": "stream",
     "text": [
      "None\n"
     ]
    },
    {
     "data": {
      "text/html": [
       "<div>\n",
       "<table border=\"1\" class=\"dataframe\">\n",
       "  <thead>\n",
       "    <tr style=\"text-align: right;\">\n",
       "      <th></th>\n",
       "      <th>Survived</th>\n",
       "      <th>Pclass</th>\n",
       "      <th>Sex</th>\n",
       "      <th>SibSp</th>\n",
       "      <th>Fare</th>\n",
       "    </tr>\n",
       "  </thead>\n",
       "  <tbody>\n",
       "    <tr>\n",
       "      <th>9</th>\n",
       "      <td>1</td>\n",
       "      <td>2</td>\n",
       "      <td>female</td>\n",
       "      <td>1</td>\n",
       "      <td>30.0708</td>\n",
       "    </tr>\n",
       "    <tr>\n",
       "      <th>15</th>\n",
       "      <td>1</td>\n",
       "      <td>2</td>\n",
       "      <td>female</td>\n",
       "      <td>0</td>\n",
       "      <td>16.0000</td>\n",
       "    </tr>\n",
       "    <tr>\n",
       "      <th>17</th>\n",
       "      <td>1</td>\n",
       "      <td>2</td>\n",
       "      <td>male</td>\n",
       "      <td>0</td>\n",
       "      <td>13.0000</td>\n",
       "    </tr>\n",
       "    <tr>\n",
       "      <th>20</th>\n",
       "      <td>0</td>\n",
       "      <td>2</td>\n",
       "      <td>male</td>\n",
       "      <td>0</td>\n",
       "      <td>26.0000</td>\n",
       "    </tr>\n",
       "    <tr>\n",
       "      <th>21</th>\n",
       "      <td>1</td>\n",
       "      <td>2</td>\n",
       "      <td>male</td>\n",
       "      <td>0</td>\n",
       "      <td>13.0000</td>\n",
       "    </tr>\n",
       "  </tbody>\n",
       "</table>\n",
       "</div>"
      ],
      "text/plain": [
       "    Survived  Pclass     Sex  SibSp     Fare\n",
       "9          1       2  female      1  30.0708\n",
       "15         1       2  female      0  16.0000\n",
       "17         1       2    male      0  13.0000\n",
       "20         0       2    male      0  26.0000\n",
       "21         1       2    male      0  13.0000"
      ]
     },
     "metadata": {},
     "output_type": "display_data"
    },
    {
     "name": "stdout",
     "output_type": "stream",
     "text": [
      "None\n"
     ]
    },
    {
     "data": {
      "text/html": [
       "<div>\n",
       "<table border=\"1\" class=\"dataframe\">\n",
       "  <thead>\n",
       "    <tr style=\"text-align: right;\">\n",
       "      <th></th>\n",
       "      <th>Survived</th>\n",
       "      <th>Pclass</th>\n",
       "      <th>Sex</th>\n",
       "      <th>SibSp</th>\n",
       "      <th>Fare</th>\n",
       "    </tr>\n",
       "  </thead>\n",
       "  <tbody>\n",
       "    <tr>\n",
       "      <th>0</th>\n",
       "      <td>0</td>\n",
       "      <td>3</td>\n",
       "      <td>male</td>\n",
       "      <td>1</td>\n",
       "      <td>7.2500</td>\n",
       "    </tr>\n",
       "    <tr>\n",
       "      <th>2</th>\n",
       "      <td>1</td>\n",
       "      <td>3</td>\n",
       "      <td>female</td>\n",
       "      <td>0</td>\n",
       "      <td>7.9250</td>\n",
       "    </tr>\n",
       "    <tr>\n",
       "      <th>4</th>\n",
       "      <td>0</td>\n",
       "      <td>3</td>\n",
       "      <td>male</td>\n",
       "      <td>0</td>\n",
       "      <td>8.0500</td>\n",
       "    </tr>\n",
       "    <tr>\n",
       "      <th>5</th>\n",
       "      <td>0</td>\n",
       "      <td>3</td>\n",
       "      <td>male</td>\n",
       "      <td>0</td>\n",
       "      <td>8.4583</td>\n",
       "    </tr>\n",
       "    <tr>\n",
       "      <th>7</th>\n",
       "      <td>0</td>\n",
       "      <td>3</td>\n",
       "      <td>male</td>\n",
       "      <td>3</td>\n",
       "      <td>21.0750</td>\n",
       "    </tr>\n",
       "  </tbody>\n",
       "</table>\n",
       "</div>"
      ],
      "text/plain": [
       "   Survived  Pclass     Sex  SibSp     Fare\n",
       "0         0       3    male      1   7.2500\n",
       "2         1       3  female      0   7.9250\n",
       "4         0       3    male      0   8.0500\n",
       "5         0       3    male      0   8.4583\n",
       "7         0       3    male      3  21.0750"
      ]
     },
     "metadata": {},
     "output_type": "display_data"
    },
    {
     "name": "stdout",
     "output_type": "stream",
     "text": [
      "None\n"
     ]
    }
   ],
   "source": [
    "pclass1 = titanic[titanic.Pclass == int('1')]\n",
    "pclass2 = titanic[titanic.Pclass == int('2')]\n",
    "pclass3 = titanic[titanic.Pclass == int('3')]\n",
    "print display(pclass1.head())\n",
    "print display(pclass2.head())\n",
    "print display(pclass3.head())"
   ]
  },
  {
   "cell_type": "markdown",
   "metadata": {},
   "source": [
    "###### Here we segregate the data based on the Passenger Class they are from and Display the first five rows of the data, Just to have a quick glance."
   ]
  },
  {
   "cell_type": "markdown",
   "metadata": {},
   "source": [
    "## Classification of Dataset based on Gender\n",
    "\n"
   ]
  },
  {
   "cell_type": "code",
   "execution_count": 5,
   "metadata": {
    "collapsed": false
   },
   "outputs": [
    {
     "name": "stdout",
     "output_type": "stream",
     "text": [
      "Total number of males in the Dataset(male_Passengers) 577\n",
      "Total number of females in the Dataset(female_Passengers) 314\n"
     ]
    }
   ],
   "source": [
    "#The Dataset is classified into Males and Females and is stored\n",
    "male_Passengers = titanic[titanic.Sex == 'male']\n",
    "female_Passengers = titanic[titanic.Sex == 'female']\n",
    "\n",
    "#Total number of Male passengers\n",
    "print \"Total number of males in the Dataset(male_Passengers) %d\" %male_Passengers.count()['Sex']\n",
    "\n",
    "#Total number of Female passengers\n",
    "print \"Total number of females in the Dataset(female_Passengers) %d\" %female_Passengers.count()['Sex']"
   ]
  },
  {
   "cell_type": "markdown",
   "metadata": {},
   "source": [
    "###### The Dataset is classified into Males and Females and is stored in seperate tables. Here we also print the total number of males Passengers and Female Passengers in the Dataset  and observe that This adds up to 891, which helps us understand that we have been going in a sensible method."
   ]
  },
  {
   "cell_type": "code",
   "execution_count": 6,
   "metadata": {
    "collapsed": false
   },
   "outputs": [
    {
     "name": "stdout",
     "output_type": "stream",
     "text": [
      "Total number of dead males in the Dataset(dead_malePass) = 468\n",
      "Total number of dead females in the Dataset(dead_femalePass) = 81\n",
      "Total number of Survived females in the Dataset(Survived_malePass) = 109\n",
      "Total number of Survived females in the Dataset(Survived_femalePass) = 233\n"
     ]
    }
   ],
   "source": [
    "dead_malePass = male_Passengers[male_Passengers.Survived == int('0')]\n",
    "print \"Total number of dead males in the Dataset(dead_malePass) = %d\" %dead_malePass.count()['Sex'] \n",
    "\n",
    "dead_femalePass = female_Passengers[female_Passengers.Survived == int('0')]\n",
    "print \"Total number of dead females in the Dataset(dead_femalePass) = %d\" %dead_femalePass.count()['Sex'] \n",
    "\n",
    "Survived_malePass = male_Passengers[male_Passengers.Survived == int('1')]\n",
    "print \"Total number of Survived females in the Dataset(Survived_malePass) = %d\" %Survived_malePass.count()['Sex']\n",
    "\n",
    "Survived_femalePass = female_Passengers[female_Passengers.Survived == int('1')]\n",
    "print \"Total number of Survived females in the Dataset(Survived_femalePass) = %d\" %Survived_femalePass.count()['Sex']\n",
    "\n"
   ]
  },
  {
   "cell_type": "markdown",
   "metadata": {},
   "source": [
    "###### Here we further classify the data into Dead and surived Passengers based on their gender. The output counts of each classifications is printed to have a better understanding of the Data. "
   ]
  },
  {
   "cell_type": "code",
   "execution_count": 7,
   "metadata": {
    "collapsed": false,
    "scrolled": false
   },
   "outputs": [
    {
     "data": {
      "image/png": "[encoded data removed]",
      "text/plain": [
       "<matplotlib.figure.Figure at 0xc52fc88>"
      ]
     },
     "metadata": {},
     "output_type": "display_data"
    }
   ],
   "source": [
    "# Histogram of Gender distrubution across each Passenger Class\n",
    "question1 = sb.factorplot('Pclass',order=[1,2,3], data=titanic, hue='Sex', kind='count', color=\"g\")\n",
    "question1.set_ylabels(\"Number of Passengers\")\n",
    "question1.set_xlabels(\"Passenger Class\")\n",
    "sb.plt.show()\n"
   ]
  },
  {
   "cell_type": "markdown",
   "metadata": {},
   "source": [
    "###### This is a Histogram plotted between Number of passsengers(Count) and the passengers classified agianst each Passenger class. As you can see we can assume that there are more number of Passengers from passenger class 3 and Its no surprise that more number of people are dead from  passenger class 3."
   ]
  },
  {
   "cell_type": "code",
   "execution_count": 8,
   "metadata": {
    "collapsed": false
   },
   "outputs": [
    {
     "data": {
      "image/png": "[encoded data removed]",
      "text/plain": [
       "<matplotlib.figure.Figure at 0xc5ce128>"
      ]
     },
     "metadata": {},
     "output_type": "display_data"
    }
   ],
   "source": [
    "question1a = sb.factorplot('Survived',order=[0,1], data=pclass1, hue='Sex', kind='count', color=\"g\")\n",
    "(question1a.set_axis_labels('Passenger Class 1', 'Passenger Count').set_xticklabels(['Dead', 'Survived']).set_titles(\"{col_name}\"))\n",
    "sb.plt.show()"
   ]
  },
  {
   "cell_type": "markdown",
   "metadata": {},
   "source": [
    "###### This histogram help us visualize the Passenger statistics who are dead and survied in each passenger class based on their gender. Please Note that there are only 3 dead females out of the 94 females from the Pclass1\n",
    "Note: In the Passenger Class 3 Visualizations, The Male and female Legends were interchanged but the Data representation is done Accurately. "
   ]
  },
  {
   "cell_type": "code",
   "execution_count": 9,
   "metadata": {
    "collapsed": false
   },
   "outputs": [
    {
     "data": {
      "text/html": [
       "<div>\n",
       "<table border=\"1\" class=\"dataframe\">\n",
       "  <thead>\n",
       "    <tr style=\"text-align: right;\">\n",
       "      <th></th>\n",
       "      <th>Class</th>\n",
       "      <th>First Class</th>\n",
       "      <th>Second Class</th>\n",
       "      <th>Third Class</th>\n",
       "    </tr>\n",
       "    <tr>\n",
       "      <th>Sex</th>\n",
       "      <th>Survival</th>\n",
       "      <th></th>\n",
       "      <th></th>\n",
       "      <th></th>\n",
       "    </tr>\n",
       "  </thead>\n",
       "  <tbody>\n",
       "    <tr>\n",
       "      <th rowspan=\"2\" valign=\"top\">female</th>\n",
       "      <th>Died</th>\n",
       "      <td>3</td>\n",
       "      <td>6</td>\n",
       "      <td>72</td>\n",
       "    </tr>\n",
       "    <tr>\n",
       "      <th>Survived</th>\n",
       "      <td>91</td>\n",
       "      <td>70</td>\n",
       "      <td>72</td>\n",
       "    </tr>\n",
       "    <tr>\n",
       "      <th rowspan=\"2\" valign=\"top\">male</th>\n",
       "      <th>Died</th>\n",
       "      <td>77</td>\n",
       "      <td>91</td>\n",
       "      <td>300</td>\n",
       "    </tr>\n",
       "    <tr>\n",
       "      <th>Survived</th>\n",
       "      <td>45</td>\n",
       "      <td>17</td>\n",
       "      <td>47</td>\n",
       "    </tr>\n",
       "  </tbody>\n",
       "</table>\n",
       "</div>"
      ],
      "text/plain": [
       "Class            First Class  Second Class  Third Class\n",
       "Sex    Survival                                        \n",
       "female Died                3             6           72\n",
       "       Survived           91            70           72\n",
       "male   Died               77            91          300\n",
       "       Survived           45            17           47"
      ]
     },
     "execution_count": 9,
     "metadata": {},
     "output_type": "execute_result"
    }
   ],
   "source": [
    "# This cell gives the Tabulized data of Gender agianst the Survival in each passenger class\n",
    "titanic['Survival'] = titanic.Survived.map({0 : 'Died', 1 : 'Survived'})\n",
    "titanic['Class'] = titanic.Pclass.map({1 : 'First Class', 2 : 'Second Class', 3 : 'Third Class'})\n",
    "titanic.groupby(['Sex', 'Survival'])['Class'].value_counts().unstack()"
   ]
  },
  {
   "cell_type": "code",
   "execution_count": 10,
   "metadata": {
    "collapsed": false
   },
   "outputs": [
    {
     "data": {
      "image/png": "[encoded data removed]",
      "text/plain": [
       "<matplotlib.figure.Figure at 0xc5b7f98>"
      ]
     },
     "metadata": {},
     "output_type": "display_data"
    },
    {
     "data": {
      "image/png": "[encoded data removed]",
      "text/plain": [
       "<matplotlib.figure.Figure at 0xc7c0588>"
      ]
     },
     "metadata": {},
     "output_type": "display_data"
    }
   ],
   "source": [
    "ques1 = sb.factorplot(\"Pclass\", \"Survived\", data=titanic, order=[1,2,3], hue='Sex', kind='point')\n",
    "ques1.set_ylabels(\"Probability of Survival\")\n",
    "ques1.set_xlabels(\"Passenger Class\")\n",
    "sb.plt.show()\n",
    "\n",
    "q1 = sb.factorplot(x=\"Sex\", y=\"Survived\", col=\"Pclass\", data=titanic, saturation=.5, kind=\"bar\", ci=None, aspect=.6)\n",
    "(q1.set_axis_labels(\"\", \"Survival Rate\").set_xticklabels([\"Male\", \"Female\"]).set_titles(\"{col_name} {col_var}\").set(ylim=(0, 1)).despine(left=True))\n",
    "sb.plt.show()"
   ]
  },
  {
   "cell_type": "markdown",
   "metadata": {},
   "source": [
    "###### Through this data It can be understood that 38% of the Passengers survived the Incident and the Proportion of female passengers that survived the Incident is 74.2% and its understood that if a female passenger board from Passenger class1, That chance of survival is 96.80%.  "
   ]
  },
  {
   "cell_type": "markdown",
   "metadata": {},
   "source": [
    "###### As we can see that there are a total of 216 passengers from Pclass1 and only 136. We  use numpy below to calculate the Proportions. "
   ]
  },
  {
   "cell_type": "code",
   "execution_count": 11,
   "metadata": {
    "collapsed": false
   },
   "outputs": [
    {
     "name": "stdout",
     "output_type": "stream",
     "text": [
      "The Total proportion of passengers who survived the incident is 0.383838383838\n"
     ]
    }
   ],
   "source": [
    "prop = csv.reader(open('C:\\Users\\PremMithilesh\\Desktop\\Udacity DSND\\P2\\Class Practice\\gender.csv', 'rb')) \n",
    "header = prop.next() \n",
    "Data = [] \n",
    "for row in prop: \n",
    "    Data.append(row)     \n",
    "Data = np.array(Data) \n",
    "total_passengers = np.size(Data[0::,1].astype(np.float))\n",
    "total_survived = np.sum(Data[0::,1].astype(np.float))\n",
    "proportion_survivors = total_survived / total_passengers\n",
    "print 'The Total proportion of passengers who survived the incident is %s' % proportion_survivors"
   ]
  },
  {
   "cell_type": "code",
   "execution_count": 12,
   "metadata": {
    "collapsed": false
   },
   "outputs": [
    {
     "name": "stdout",
     "output_type": "stream",
     "text": [
      "The Total proportion of female passengers that survived the incident is 0.742038216561\n"
     ]
    }
   ],
   "source": [
    "femaleStat = Data[0::,4] == \"female\"\n",
    "f_surv = Data[femaleStat,1].astype(np.float)\n",
    "female_prop = np.sum(f_surv) / np.size(f_surv) \n",
    "print 'The Total proportion of female passengers that survived the incident is %s' % female_prop"
   ]
  },
  {
   "cell_type": "code",
   "execution_count": 13,
   "metadata": {
    "collapsed": false,
    "scrolled": true
   },
   "outputs": [
    {
     "name": "stdout",
     "output_type": "stream",
     "text": [
      "Thr total proprtion of Passengers survived from Passenger class 1 is 0.62962962963\n"
     ]
    }
   ],
   "source": [
    "pclass1 = Data[0::,2] == \"1\"\n",
    "pclass1_surv = Data[pclass1,1].astype(np.float)\n",
    "prop_pclass1_surv = np.sum(pclass1_surv) / np.size(pclass1_surv)\n",
    "print 'Thr total proprtion of Passengers survived from Passenger class 1 is %s' % prop_pclass1_surv"
   ]
  },
  {
   "cell_type": "markdown",
   "metadata": {},
   "source": [
    "#### The above cells uses numpy to calculate the total proportion "
   ]
  },
  {
   "cell_type": "markdown",
   "metadata": {},
   "source": [
    "#### Limitations: The essential information required to understand and support the analysis based on the grade rubric is only documented in this notebook. The conclusions were drawn from the Trends of the dataset under Visualizations and Statistical analysis. Some assumptions were made by generalizing the Human tendency and common behaviour.  The DataSet is inappropriate to analyse certain angles as the:\n",
    "1. The Age column has only 714 entries.\n",
    "2. Cabin has 204 entries and\n",
    "3. Embarked has 889 entries\n",
    "4. This dataset was at least in part collected after the titanic sank. This means that there's significant survivor bias. This is worth noting!\n",
    "5. It is important to note co-relation does not imply causation. "
   ]
  },
  {
   "cell_type": "markdown",
   "metadata": {},
   "source": [
    "## Conclusion:\n",
    "There are a total of 314 femals and 577 males in the dataset. the Interesting point here is that there are only 3 dead females from Pclass1. which is 96.80% of survival rate. Though this Data it can be implied that the female passengers who boarded in the Passenger Class 1 had a greater chance of survival which is 96.80%. "
   ]
  },
  {
   "cell_type": "markdown",
   "metadata": {},
   "source": [
    "## Assumptions:\n",
    "I assume the reasons for the greater proportion of survival across the Passenger class 1 in females might be due to two reasons. \n",
    "1. Pclass 1 Passengers were of the higher class and might be given the high priority as their fare price is considerably higher. The Lifeboats might as well be very accessible to the Pclass 1 Passengers as the higher Price results in higher luxury, Comfort, Priority and safety. \n",
    "2. The Women had a Higher proportion of suvival compared to men of passenger class 1 as the women might have been given higher priority. \n"
   ]
  },
  {
   "cell_type": "markdown",
   "metadata": {},
   "source": [
    "## References:\n",
    "    1. https://seaborn.pydata.org/api.html\n",
    "    2. https://www.kaggle.com/c/titanic/data"
   ]
  }
 ],
 "metadata": {
  "anaconda-cloud": {},
  "kernelspec": {
   "display_name": "Python [conda root]",
   "language": "python",
   "name": "conda-root-py"
  },
  "language_info": {
   "codemirror_mode": {
    "name": "ipython",
    "version": 2
   },
   "file_extension": ".py",
   "mimetype": "text/x-python",
   "name": "python",
   "nbconvert_exporter": "python",
   "pygments_lexer": "ipython2",
   "version": "2.7.12"
  }
 },
 "nbformat": 4,
 "nbformat_minor": 1
}
